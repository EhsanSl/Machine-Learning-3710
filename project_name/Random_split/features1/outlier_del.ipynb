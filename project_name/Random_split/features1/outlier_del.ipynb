{
 "cells": [
  {
   "cell_type": "code",
   "execution_count": null,
   "metadata": {
    "collapsed": true
   },
   "outputs": [],
   "source": [
    "import numpy as np\n",
    "\n",
    "# generate sample data\n",
    "data = np.random.normal(size=1000)\n",
    "\n",
    "# calculate the IQR\n",
    "q1 = np.percentile(data, 25)\n",
    "q3 = np.percentile(data, 75)\n",
    "iqr = q3 - q1\n",
    "\n",
    "# calculate the Z-score\n",
    "mean = np.mean(data)\n",
    "std = np.std(data)\n",
    "z_scores = (data - mean) / std\n",
    "\n",
    "# identify outliers\n",
    "outliers_iqr = (data < (q1 - 1.5 * iqr)) | (data > (q3 + 1.5 * iqr))\n",
    "outliers_z = np.abs(z_scores) > 3\n",
    "\n",
    "# remove outliers\n",
    "clean_data_iqr = data[~outliers_iqr]\n",
    "clean_data_z = data[~outliers_z]\n",
    "\n",
    "print(f\"IQR method: Removed {sum(outliers_iqr)} outliers, resulting in {len(clean_data_iqr)} data points\")\n",
    "print(f\"Z-score method: Removed {sum(outliers_z)} outliers, resulting in {len(clean_data_z)} data points\")\n"
   ]
  }
 ],
 "metadata": {
  "kernelspec": {
   "display_name": "Python 3",
   "language": "python",
   "name": "python3"
  },
  "language_info": {
   "codemirror_mode": {
    "name": "ipython",
    "version": 2
   },
   "file_extension": ".py",
   "mimetype": "text/x-python",
   "name": "python",
   "nbconvert_exporter": "python",
   "pygments_lexer": "ipython2",
   "version": "2.7.6"
  }
 },
 "nbformat": 4,
 "nbformat_minor": 0
}
