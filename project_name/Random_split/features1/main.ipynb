{
 "cells": [
  {
   "cell_type": "code",
   "execution_count": 1,
   "metadata": {},
   "outputs": [],
   "source": [
    "#main \n",
    "import pandas as pd\n",
    "from sklearn.model_selection import train_test_split\n",
    "\n",
    "#read file\n",
    "Rspd = pd.read_csv('../../RandomSpeed_final.csv', usecols = ['rcvTime', 'sendTime', 'sender', 'senderPseudo', 'messageID', 'pos_x', 'pos_y', 'pos_noise_x', 'pos_noise_y', 'spd_x', 'spd_y', 'spd_noise_x', 'spd_noise_y', 'acl_x', 'acl_y', 'acl_noise_x', 'acl_noise_y', 'hed_x', 'hed_y', 'hed_noise_x', 'hed_noise_y', 'attack?'])\n",
    "\n"
   ]
  },
  {
   "cell_type": "code",
   "execution_count": 2,
   "metadata": {},
   "outputs": [],
   "source": [
    "#drop the unrelated\n",
    "#df = pd.read_csv(\"student_scores2.csv\", usecols = ['rcvTime','Scores'])\n",
    "\n",
    "\n",
    "features = Rspd.drop('attack?',  axis=1)\n",
    "labels = Rspd['attack?']\n",
    "\n",
    "#create test , validatio , train data\n",
    "X_train, X_test, y_train, y_test = train_test_split(features, labels, test_size=0.2, random_state=42)\n",
    "X_val, X_test, y_val, y_test = train_test_split(X_test, y_test, test_size=0.5, random_state=42)\n",
    "\n",
    "X_train.to_csv('./features_labels/train_features.csv', index=False)\n",
    "X_val.to_csv('./features_labels/val_features.csv', index=False)\n",
    "X_test.to_csv('./features_labels/test_features.csv', index=False)\n",
    "\n",
    "y_train.to_csv('./features_labels/train_labels.csv', index=False)\n",
    "y_val.to_csv('./features_labels/val_labels.csv', index=False)\n",
    "y_test.to_csv('./features_labels/test_labels.csv', index=False)"
   ]
  },
  {
   "cell_type": "code",
   "execution_count": 3,
   "metadata": {},
   "outputs": [
    {
     "name": "stdout",
     "output_type": "stream",
     "text": [
      "0.8\n",
      "0.1\n",
      "0.1\n"
     ]
    }
   ],
   "source": [
    "#print for making sure\n",
    "for dataset in [y_train, y_val, y_test]:\n",
    "    print(round(len(dataset) / len(labels), 2))"
   ]
  },
  {
   "cell_type": "code",
   "execution_count": 4,
   "outputs": [
    {
     "data": {
      "text/plain": "(656077, 21)"
     },
     "execution_count": 4,
     "metadata": {},
     "output_type": "execute_result"
    }
   ],
   "source": [
    "X_train.shape"
   ],
   "metadata": {
    "collapsed": false
   }
  },
  {
   "cell_type": "code",
   "execution_count": 5,
   "outputs": [
    {
     "data": {
      "text/plain": "(656077,)"
     },
     "execution_count": 5,
     "metadata": {},
     "output_type": "execute_result"
    }
   ],
   "source": [
    "y_train.shape"
   ],
   "metadata": {
    "collapsed": false
   }
  },
  {
   "cell_type": "code",
   "execution_count": 5,
   "outputs": [],
   "source": [],
   "metadata": {
    "collapsed": false
   }
  }
 ],
 "metadata": {
  "kernelspec": {
   "display_name": "Python 3",
   "language": "python",
   "name": "python3"
  },
  "language_info": {
   "codemirror_mode": {
    "name": "ipython",
    "version": 3
   },
   "file_extension": ".py",
   "mimetype": "text/x-python",
   "name": "python",
   "nbconvert_exporter": "python",
   "pygments_lexer": "ipython3",
   "version": "3.7.1"
  }
 },
 "nbformat": 4,
 "nbformat_minor": 2
}
