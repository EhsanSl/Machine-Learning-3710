{
 "cells": [
  {
   "cell_type": "code",
   "execution_count": 6,
   "metadata": {},
   "outputs": [],
   "source": [
    "import joblib\n",
    "import pandas as pd\n",
    "from sklearn.metrics import accuracy_score, precision_score, recall_score\n",
    "from time import time\n",
    "import csv \n",
    "\n",
    "val_features = pd.read_csv('./features_labels/val_features.csv')\n",
    "val_labels = pd.read_csv('./features_labels/val_labels.csv')\n",
    "\n",
    "te_features = pd.read_csv('./features_labels/test_features.csv')\n",
    "te_labels = pd.read_csv('./features_labels/test_labels.csv')"
   ]
  },
  {
   "cell_type": "code",
   "execution_count": 7,
   "metadata": {},
   "outputs": [],
   "source": [
    "models = {}\n",
    "\n",
    "for mdl in ['LR', 'DT', 'RF','Knn', 'XGBoost']:\n",
    "    models[mdl] = joblib.load('./models/{}_model.pkl'.format(mdl))"
   ]
  },
  {
   "cell_type": "code",
   "execution_count": 8,
   "metadata": {},
   "outputs": [
    {
     "data": {
      "text/plain": "{'LR': LogisticRegression(C=0.001),\n 'DT': DecisionTreeClassifier(max_leaf_nodes=99, min_samples_split=4),\n 'RF': RandomForestClassifier(n_estimators=250),\n 'Knn': KNeighborsClassifier(n_neighbors=1),\n 'XGBoost': GradientBoostingClassifier(max_depth=8, n_estimators=250)}"
     },
     "execution_count": 8,
     "metadata": {},
     "output_type": "execute_result"
    }
   ],
   "source": [
    "models"
   ]
  },
  {
   "cell_type": "code",
   "execution_count": 9,
   "metadata": {},
   "outputs": [],
   "source": [
    "#Creating the csv file \n",
    "def csv_creator(fname):\n",
    "    header = ['Name','Accuracy', 'Precision', 'Recall', 'Latency']\n",
    "    fname = fname+\".csv\"\n",
    "    with open(fname, 'w', encoding='UTF8', newline='') as f:\n",
    "        writer = csv.writer(f)\n",
    "        # write the header\n",
    "        writer.writerow(header)"
   ]
  },
  {
   "cell_type": "code",
   "execution_count": 10,
   "metadata": {},
   "outputs": [],
   "source": [
    "def evaluate_model(name, model, features, labels, fname):\n",
    "    start = time()\n",
    "    pred = model.predict(features)\n",
    "    end = time()\n",
    "\n",
    "    accuracy = round(accuracy_score(labels, pred), 3)\n",
    "    precision = round(precision_score(labels, pred), 3)\n",
    "    recall = round(recall_score(labels, pred), 3)\n",
    "    latency = round((end - start)*1000, 1)\n",
    "\n",
    "    print('{} -- Accuracy: {} / Precision: {} / Recall: {} / Latency: {}ms'.format(name,accuracy,precision,recall,latency))\n",
    "    #writing into the csv file \n",
    "    data = [name, accuracy, precision, recall, latency]\n",
    "    with open(fname, 'a', encoding='UTF8', newline='') as f:\n",
    "        writer = csv.writer(f)\n",
    "        writer.writerow(data)"
   ]
  },
  {
   "cell_type": "code",
   "execution_count": 11,
   "metadata": {},
   "outputs": [
    {
     "name": "stderr",
     "output_type": "stream",
     "text": [
      "C:\\Users\\esali\\AppData\\Local\\Programs\\Python\\Python39\\lib\\site-packages\\sklearn\\metrics\\_classification.py:1334: UndefinedMetricWarning: Precision is ill-defined and being set to 0.0 due to no predicted samples. Use `zero_division` parameter to control this behavior.\n",
      "  _warn_prf(average, modifier, msg_start, len(result))\n"
     ]
    },
    {
     "name": "stdout",
     "output_type": "stream",
     "text": [
      "LR -- Accuracy: 0.699 / Precision: 0.0 / Recall: 0.0 / Latency: 8.0ms\n",
      "DT -- Accuracy: 0.995 / Precision: 0.995 / Recall: 0.989 / Latency: 12.0ms\n",
      "RF -- Accuracy: 0.998 / Precision: 0.996 / Recall: 0.996 / Latency: 2358.2ms\n",
      "Knn -- Accuracy: 0.973 / Precision: 0.955 / Recall: 0.955 / Latency: 24668.4ms\n",
      "XGBoost -- Accuracy: 0.998 / Precision: 0.996 / Recall: 0.996 / Latency: 547.7ms\n"
     ]
    }
   ],
   "source": [
    "file_name = 'features1'\n",
    "csv_creator(file_name)\n",
    "for name, mdl in models.items():\n",
    "    evaluate_model(name, mdl, val_features, val_labels , f\"./output/{file_name}.csv\")"
   ]
  },
  {
   "cell_type": "code",
   "execution_count": null,
   "metadata": {},
   "outputs": [],
   "source": []
  },
  {
   "cell_type": "code",
   "execution_count": null,
   "metadata": {},
   "outputs": [],
   "source": []
  }
 ],
 "metadata": {
  "kernelspec": {
   "display_name": "Python 3",
   "language": "python",
   "name": "python3"
  },
  "language_info": {
   "codemirror_mode": {
    "name": "ipython",
    "version": 3
   },
   "file_extension": ".py",
   "mimetype": "text/x-python",
   "name": "python",
   "nbconvert_exporter": "python",
   "pygments_lexer": "ipython3",
   "version": "3.7.1"
  }
 },
 "nbformat": 4,
 "nbformat_minor": 2
}
