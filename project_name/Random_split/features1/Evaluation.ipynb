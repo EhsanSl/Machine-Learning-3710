{
 "cells": [
  {
   "cell_type": "code",
   "execution_count": 1,
   "metadata": {},
   "outputs": [],
   "source": [
    "import joblib\n",
    "import pandas as pd\n",
    "from sklearn.metrics import accuracy_score, precision_score, recall_score\n",
    "from time import time\n",
    "import csv \n",
    "\n",
    "val_features = pd.read_csv('./features_labels/val_features.csv')\n",
    "val_labels = pd.read_csv('./features_labels/val_labels.csv')\n",
    "\n",
    "te_features = pd.read_csv('./features_labels/test_features.csv')\n",
    "te_labels = pd.read_csv('./features_labels/test_labels.csv')"
   ]
  },
  {
   "cell_type": "code",
   "execution_count": 3,
   "metadata": {},
   "outputs": [],
   "source": [
    "models = {}\n",
    "\n",
    "for mdl in ['MLP', 'SVM', 'RF', 'XGBoost']:\n",
    "    models[mdl] = joblib.load('./models/{}_model.pkl'.format(mdl))"
   ]
  },
  {
   "cell_type": "code",
   "execution_count": 4,
   "metadata": {},
   "outputs": [
    {
     "data": {
      "text/plain": "{'MLP': MLPClassifier(activation='tanh', hidden_layer_sizes=(50,)),\n 'SVM': SVC(C=100),\n 'RF': RandomForestClassifier(n_estimators=50),\n 'XGBoost': GradientBoostingClassifier(max_depth=4, n_estimators=250)}"
     },
     "execution_count": 4,
     "metadata": {},
     "output_type": "execute_result"
    }
   ],
   "source": [
    "models"
   ]
  },
  {
   "cell_type": "code",
   "execution_count": 5,
   "metadata": {},
   "outputs": [],
   "source": [
    "#Creating the csv file \n",
    "def csv_creator(fname):\n",
    "    header = ['Name','Accuracy', 'Precision', 'Recall', 'Latency']\n",
    "    fname = fname+\".csv\"\n",
    "    with open(fname, 'w', encoding='UTF8', newline='') as f:\n",
    "        writer = csv.writer(f)\n",
    "        # write the header\n",
    "        writer.writerow(header)"
   ]
  },
  {
   "cell_type": "code",
   "execution_count": 6,
   "metadata": {},
   "outputs": [],
   "source": [
    "def evaluate_model(name, model, features, labels, fname):\n",
    "    start = time()\n",
    "    pred = model.predict(features)\n",
    "    end = time()\n",
    "\n",
    "    accuracy = round(accuracy_score(labels, pred), 3)\n",
    "    precision = round(precision_score(labels, pred), 3)\n",
    "    recall = round(recall_score(labels, pred), 3)\n",
    "    latency = round((end - start)*1000, 1)\n",
    "\n",
    "    print('{} -- Accuracy: {} / Precision: {} / Recall: {} / Latency: {}ms'.format(name,accuracy,precision,recall,latency))\n",
    "    #writing into the csv file \n",
    "    data = [name, accuracy, precision, recall, latency]\n",
    "    with open(fname, 'a', encoding='UTF8', newline='') as f:\n",
    "        writer = csv.writer(f)\n",
    "        writer.writerow(data)"
   ]
  },
  {
   "cell_type": "code",
   "execution_count": 7,
   "metadata": {},
   "outputs": [
    {
     "name": "stdout",
     "output_type": "stream",
     "text": [
      "MLP -- Accuracy: 0.952 / Precision: 0.958 / Recall: 0.929 / Latency: 3.0ms\n",
      "SVM -- Accuracy: 0.824 / Precision: 0.84 / Recall: 0.724 / Latency: 80.0ms\n",
      "RF -- Accuracy: 0.957 / Precision: 0.973 / Recall: 0.923 / Latency: 7.0ms\n",
      "XGBoost -- Accuracy: 0.941 / Precision: 0.957 / Recall: 0.903 / Latency: 3.0ms\n"
     ]
    }
   ],
   "source": [
    "file_name = 'features1'\n",
    "csv_creator(file_name)\n",
    "for name, mdl in models.items():\n",
    "    evaluate_model(name, mdl, val_features, val_labels , f\"./output/{file_name}.csv\")"
   ]
  },
  {
   "cell_type": "code",
   "execution_count": null,
   "metadata": {},
   "outputs": [],
   "source": []
  },
  {
   "cell_type": "code",
   "execution_count": null,
   "metadata": {},
   "outputs": [],
   "source": []
  }
 ],
 "metadata": {
  "kernelspec": {
   "display_name": "Python 3",
   "language": "python",
   "name": "python3"
  },
  "language_info": {
   "codemirror_mode": {
    "name": "ipython",
    "version": 3
   },
   "file_extension": ".py",
   "mimetype": "text/x-python",
   "name": "python",
   "nbconvert_exporter": "python",
   "pygments_lexer": "ipython3",
   "version": "3.7.1"
  }
 },
 "nbformat": 4,
 "nbformat_minor": 2
}
